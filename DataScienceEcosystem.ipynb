{
 "cells": [
  {
   "cell_type": "markdown",
   "id": "1dba5854",
   "metadata": {},
   "source": [
    "<h1>Data Science Tools and Ecosystem</h1>"
   ]
  },
  {
   "cell_type": "markdown",
   "id": "d7226506",
   "metadata": {},
   "source": [
    "In this notebook, Data Science Tools and Ecosystem are summarized."
   ]
  },
  {
   "cell_type": "markdown",
   "id": "cc1c5d13",
   "metadata": {},
   "source": [
    "Some of the popular languages that Data Scientists use are:"
   ]
  },
  {
   "cell_type": "markdown",
   "id": "8ceda671",
   "metadata": {},
   "source": [
    "Objectives: this is very good notebook here are some key takeaways\n",
    "            in which we studied about\n",
    "            . github\n",
    "            . jupiter notebook\n",
    "            . python"
   ]
  },
  {
   "cell_type": "markdown",
   "id": "dba88bbb",
   "metadata": {},
   "source": [
    "ordered list = java, python, c#"
   ]
  },
  {
   "cell_type": "markdown",
   "id": "6d0cbd8f",
   "metadata": {},
   "source": [
    "Some of the commonly used libraries used by Data Scientists include: NumPy, SciPy, Pandas."
   ]
  },
  {
   "cell_type": "markdown",
   "id": "ac20eddd",
   "metadata": {},
   "source": [
    "| Sr no:-| Data Science Tools |\n",
    "| -------|--------------------|\n",
    "|    1   |      Excel         |\n",
    "|    2   |      MATLAB        |\n",
    "|    3   |      Tableau       |"
   ]
  },
  {
   "cell_type": "markdown",
   "id": "d6bb89f7",
   "metadata": {},
   "source": [
    "Below are a few examples of evaluating arithmetic expressions in Python"
   ]
  },
  {
   "cell_type": "code",
   "execution_count": 3,
   "id": "a5b6f971",
   "metadata": {},
   "outputs": [
    {
     "data": {
      "text/plain": [
       "17"
      ]
     },
     "execution_count": 3,
     "metadata": {},
     "output_type": "execute_result"
    }
   ],
   "source": [
    "(3*4)+5 "
   ]
  },
  {
   "cell_type": "markdown",
   "id": "850dc326",
   "metadata": {},
   "source": [
    " This a simple arithmetic expression to mutiply then add integers"
   ]
  },
  {
   "cell_type": "code",
   "execution_count": 8,
   "id": "4b1e8195",
   "metadata": {},
   "outputs": [
    {
     "name": "stdout",
     "output_type": "stream",
     "text": [
      "3:20\n"
     ]
    }
   ],
   "source": [
    "total_minutes = 200\n",
    "\n",
    "# Get hours with floor division\n",
    "hours = total_minutes // 60\n",
    "\n",
    "# Get additional minutes with modulus\n",
    "minutes = total_minutes % 60\n",
    "\n",
    "# Create time as a string\n",
    "time_string = \"{}:{}\".format(hours, minutes)\n",
    "\n",
    "print(time_string) #This will convert 200 minutes to hours by diving by 60"
   ]
  },
  {
   "cell_type": "code",
   "execution_count": 10,
   "id": "b0eafd1f",
   "metadata": {},
   "outputs": [],
   "source": [
    "# This will convert 200 minutes to hours by diving by 60"
   ]
  },
  {
   "cell_type": "markdown",
   "id": "7d914f9f",
   "metadata": {},
   "source": [
    "<h2> Author </h2>\n",
    "    Sachin Chahal"
   ]
  },
  {
   "cell_type": "code",
   "execution_count": null,
   "id": "84d904c2",
   "metadata": {},
   "outputs": [],
   "source": []
  }
 ],
 "metadata": {
  "kernelspec": {
   "display_name": "Python 3 (ipykernel)",
   "language": "python",
   "name": "python3"
  },
  "language_info": {
   "codemirror_mode": {
    "name": "ipython",
    "version": 3
   },
   "file_extension": ".py",
   "mimetype": "text/x-python",
   "name": "python",
   "nbconvert_exporter": "python",
   "pygments_lexer": "ipython3",
   "version": "3.9.13"
  }
 },
 "nbformat": 4,
 "nbformat_minor": 5
}
